{
 "cells": [
  {
   "cell_type": "code",
   "execution_count": 1,
   "metadata": {},
   "outputs": [],
   "source": [
    "import pandas as pd\n",
    "import ast\n",
    "import glob\n",
    "import os\n",
    "import pprint\n",
    "import matplotlib.pyplot as plt\n",
    "import numpy as np\n",
    "\n",
    "%matplotlib inline\n",
    "\n",
    "import warnings\n",
    "warnings.filterwarnings('ignore')"
   ]
  },
  {
   "cell_type": "code",
   "execution_count": 2,
   "metadata": {},
   "outputs": [],
   "source": [
    "# Read dictionaries from the files\n",
    "a_list = []\n",
    "path = '/app/src/files/'\n",
    "def process_your_file(file):\n",
    "    f1 = open(file, 'r')\n",
    "    return ast.literal_eval(f1.read())\n",
    "a_list = [ process_your_file(file) for file in glob.glob(os.path.join(path, '*.txt')) ]"
   ]
  },
  {
   "cell_type": "code",
   "execution_count": 3,
   "metadata": {},
   "outputs": [
    {
     "ename": "AttributeError",
     "evalue": "'StringMethods' object has no attribute 'lowercase'",
     "output_type": "error",
     "traceback": [
      "\u001b[0;31m---------------------------------------------------------------------------\u001b[0m",
      "\u001b[0;31mAttributeError\u001b[0m                            Traceback (most recent call last)",
      "\u001b[0;32m<ipython-input-3-f99836483757>\u001b[0m in \u001b[0;36m<module>\u001b[0;34m\u001b[0m\n\u001b[1;32m     24\u001b[0m \u001b[0;31m#column_list = [_ for _ in df.columns]\u001b[0m\u001b[0;34m\u001b[0m\u001b[0;34m\u001b[0m\u001b[0;34m\u001b[0m\u001b[0m\n\u001b[1;32m     25\u001b[0m \u001b[0;31m#column_list\u001b[0m\u001b[0;34m\u001b[0m\u001b[0;34m\u001b[0m\u001b[0;34m\u001b[0m\u001b[0m\n\u001b[0;32m---> 26\u001b[0;31m \u001b[0mdf\u001b[0m\u001b[0;34m.\u001b[0m\u001b[0mcolumns\u001b[0m \u001b[0;34m=\u001b[0m \u001b[0mdf\u001b[0m\u001b[0;34m.\u001b[0m\u001b[0mcolumns\u001b[0m\u001b[0;34m.\u001b[0m\u001b[0mstr\u001b[0m\u001b[0;34m.\u001b[0m\u001b[0mlowercase\u001b[0m\u001b[0;34m(\u001b[0m\u001b[0;34m)\u001b[0m\u001b[0;34m\u001b[0m\u001b[0;34m\u001b[0m\u001b[0m\n\u001b[0m\u001b[1;32m     27\u001b[0m \u001b[0mdf\u001b[0m\u001b[0;34m.\u001b[0m\u001b[0mhead\u001b[0m\u001b[0;34m(\u001b[0m\u001b[0;34m)\u001b[0m\u001b[0;34m\u001b[0m\u001b[0;34m\u001b[0m\u001b[0m\n",
      "\u001b[0;31mAttributeError\u001b[0m: 'StringMethods' object has no attribute 'lowercase'"
     ]
    }
   ],
   "source": [
    "# Convert each dictionary to dataframe\n",
    "df, dftt = pd.DataFrame(), pd.DataFrame()\n",
    "for xd in a_list:\n",
    "    dftt = df\n",
    "    dft1 = {(k1, k2):v2 for k1,v1 in xd.items() \n",
    "                               for k2,v2 in xd[k1].items()\n",
    "                               }\n",
    "    dft2 = {(k1, k2):v2 for k1,v1 in dft1.items() \n",
    "                               for k2,v2 in dft1[k1].items()\n",
    "                               }\n",
    "    dft3 = {(k1, k2):v2 for k1,v1 in dft2.items() \n",
    "                               for k2,v2 in dft2[k1].items()\n",
    "                               }\n",
    "    dft = pd.DataFrame([dft3[i] for i in sorted(dft3)],\n",
    "                  index = pd.MultiIndex.from_tuples([(k1, k2, k3, k4) for (((k1, k2),k3),k4) in dft3.keys()])\n",
    "                 )   \n",
    "    dft.sort_index()\n",
    "    dft = dft.rename_axis(['SearchTerm','Area','Salary','ZipCode'])\n",
    "    df = pd.concat([dft, dftt], sort=True)\n",
    "    df.fillna(0,inplace=True)\n",
    "    df.sort_index()\n",
    "    dft.drop\n",
    "    dftt.drop\n",
    "#column_list = [_ for _ in df.columns]\n",
    "#column_list\n",
    "df.columns = df.columns.str.lower()\n",
    "df.head()"
   ]
  },
  {
   "cell_type": "code",
   "execution_count": null,
   "metadata": {},
   "outputs": [],
   "source": [
    "# Merge duplicates and drop non-specific columns\n",
    "df['visualization'] += df.pop('visualizations')\n",
    "df['scripting'] += df.pop('scripts')\n",
    "df['git'] +=df.pop('github')\n",
    "df['api'] +=df.pop('apis')\n",
    "#df['Machine'] +=df.pop('learning')\n",
    "#df.rename(columns={'Machine': 'MachineLearning'}, inplace=True)\n",
    "df.rename(columns={'big': 'big data'}, inplace=True)\n",
    "df.columns = df.columns.str.capitalize()"
   ]
  },
  {
   "cell_type": "code",
   "execution_count": null,
   "metadata": {},
   "outputs": [],
   "source": [
    "# Top 30 skills for Software Quality Assurance Engineer\n",
    "sqae = df.iloc[df.index.get_level_values('SearchTerm') == 'software quality assurance engineer'].sum().sort_values(ascending=False).nlargest(30)\n",
    "sqae_per = sqae*100/sqae.sum()\n",
    "ax= sqae_per.plot(figsize=(16,9),title='Top 30 skills for \"Software Quality Assurance Engineer\"', kind='bar')\n",
    "ax.set(xlabel='Skills',ylabel='Percentage of hits')\n",
    "plt.show()"
   ]
  },
  {
   "cell_type": "code",
   "execution_count": null,
   "metadata": {},
   "outputs": [],
   "source": [
    "# Top 30 skills for Data Science Engineer\n",
    "dse = df.iloc[df.index.get_level_values('SearchTerm') == 'data science engineer'].sum().sort_values(ascending=False).nlargest(30)\n",
    "dse_per = dse*100/dse.sum()\n",
    "ax= dse_per.plot(figsize=(16,9),title='Top 30 skills for \"Data Science Engineer\"', kind='bar')\n",
    "ax.set(xlabel='Skills',ylabel='Percentage of hits')\n",
    "plt.show()"
   ]
  },
  {
   "cell_type": "code",
   "execution_count": null,
   "metadata": {},
   "outputs": [],
   "source": [
    "# Top skills for Software Quality Assurance Engineer in SF Area\n",
    "# https://stackoverflow.com/questions/53927460/select-rows-in-pandas-multiindex-dataframe\n",
    "df.sort_index()\n",
    "sqae_sf = df.loc[pd.IndexSlice[('software quality assurance engineer', 'San Francisco Bay Area')]].sum().sort_values(ascending=False).nlargest(30)\n",
    "sqae_sf_per = sqae_sf*100/sqae_sf.sum()\n",
    "ax= sqae_sf_per.plot(figsize=(16,9),title='Top 30 skills for \"Software Quality Assurance Engineer\" in SF Area', kind='bar')\n",
    "ax.set(xlabel='Skills',ylabel='Percentage of hits')\n",
    "plt.show()"
   ]
  },
  {
   "cell_type": "code",
   "execution_count": null,
   "metadata": {},
   "outputs": [],
   "source": [
    "# Top skills for Software Quality Assurance Engineer in AZ Area\n",
    "df.sort_index()\n",
    "sqae_az = df.loc[pd.IndexSlice[('software quality assurance engineer', 'Phoenix, AZ')]].sum().sort_values(ascending=False).nlargest(30)\n",
    "sqae_az_per = sqae_az*100/sqae_az.sum()\n",
    "ax= sqae_az_per.plot(figsize=(16,9),title='Top 30 skills for \"Software Quality Assurance Engineer\" in AZ Area', kind='bar')\n",
    "ax.set(xlabel='Skills',ylabel='Percentage of hits')\n",
    "plt.show()"
   ]
  },
  {
   "cell_type": "code",
   "execution_count": null,
   "metadata": {},
   "outputs": [],
   "source": [
    "# Top skills for Data Science Engineer in AZ Area\n",
    "df.sort_index()\n",
    "dse_az = df.loc[pd.IndexSlice[('data science engineer', 'Phoenix, AZ')]].sum().sort_values(ascending=False).nlargest(30)\n",
    "dse_az_per = dse_az*100/dse_az.sum()\n",
    "ax= dse_az_per.plot(figsize=(16,9),title='Top 30 skills for \"Data Science Engineer\" in AZ Area', kind='bar')\n",
    "ax.set(xlabel='Skills',ylabel='Percentage of hits')\n",
    "plt.show()"
   ]
  },
  {
   "cell_type": "code",
   "execution_count": null,
   "metadata": {},
   "outputs": [],
   "source": [
    "# Compare the SQAE skills by Geo\n",
    "df.sort_index()\n",
    "sqae_az = df.loc[pd.IndexSlice[('software quality assurance engineer', 'Phoenix, AZ')]].sum().sort_values(ascending=False).nlargest(10)\n",
    "sqae_az_per = sqae_az*100/sqae_az.sum()\n",
    "\n",
    "sqae_sf = df.loc[pd.IndexSlice[('software quality assurance engineer', 'San Francisco Bay Area')]].sum().sort_values(ascending=False).nlargest(10)\n",
    "sqae_sf_per = sqae_sf*100/sqae_sf.sum()\n",
    "\n",
    "sqae_ma = df.loc[pd.IndexSlice[('software quality assurance engineer', 'Sufolk County, Boston MA')]].sum().sort_values(ascending=False).nlargest(10)\n",
    "sqae_ma_per = sqae_ma*100/sqae_ma.sum()\n",
    "\n",
    "#sqae_tx = df.loc[pd.IndexSlice[('software quality assurance engineer', 'Travis County, Austin TX')]].sum().sort_values(ascending=False).nlargest(10)\n",
    "#sqae_tx_per = sqae_tx*100/sqae_tx.sum()"
   ]
  },
  {
   "cell_type": "code",
   "execution_count": null,
   "metadata": {},
   "outputs": [],
   "source": [
    "# Plot of the skill requirement for software quality assurance engineer across geos\n",
    "df_sqae_cp = pd.concat([sqae_sf_per, sqae_az_per, sqae_ma_per], ignore_index=False, sort=True, axis = 1)\n",
    "df_sqae_cp.columns = ['San Francisco', 'Arizona', 'Boston']\n",
    "df_sqae_cp= df_sqae_cp.replace(0,None)\n",
    "df_sqae_cp=df_sqae_cp.dropna(how='all',axis=0)\n",
    "df_sqae_cp.fillna(0, inplace=True)\n",
    "xy = df_sqae_cp.plot(figsize=(20,10), kind='bar', title='Comparison of top 10 skills for \"Software Quality Assurance Engineer\" across geos', grid=False, width=0.8)\n",
    "xy.set(xlabel='Skills',ylabel='Percentage of hits')\n",
    "plt.show()"
   ]
  },
  {
   "cell_type": "code",
   "execution_count": null,
   "metadata": {},
   "outputs": [],
   "source": [
    "# Compare the DSE skills by Geo\n",
    "df.sort_index()\n",
    "dse_az = df.loc[pd.IndexSlice[('data science engineer', 'Phoenix, AZ')]].sum().sort_values(ascending=False).nlargest(10)\n",
    "dse_az_per = dse_az*100/dse_az.sum()\n",
    "\n",
    "dse_sf = df.loc[pd.IndexSlice[('data science engineer', 'San Francisco Bay Area')]].sum().sort_values(ascending=False).nlargest(10)\n",
    "dse_sf_per = dse_sf*100/dse_sf.sum()\n",
    "\n",
    "#dse_ma = df.loc[pd.IndexSlice[('data science engineer', 'Sufolk County, Boston MA')]].sum().sort_values(ascending=False).nlargest(10)\n",
    "#dse_ma_per = dse_ma*100/dse_ma.sum()\n",
    "\n",
    "dse_tx = df.loc[pd.IndexSlice[('data science engineer', 'Travis County, Austin TX')]].sum().sort_values(ascending=False).nlargest(10)\n",
    "dse_tx_per = dse_tx*100/dse_tx.sum()"
   ]
  },
  {
   "cell_type": "code",
   "execution_count": null,
   "metadata": {},
   "outputs": [],
   "source": [
    "# Plot of the skill requirement for data science engineer across geos\n",
    "df_dse_cp = pd.concat([dse_sf_per, dse_az_per, dse_tx_per], ignore_index=False, sort=True, axis = 1)\n",
    "df_dse_cp.columns = ['San Francisco', 'Arizona', 'Austin']\n",
    "df_dse_cp= df_dse_cp.replace(0,None)\n",
    "df_dse_cp=df_dse_cp.dropna(how='all',axis=0)\n",
    "df_dse_cp.fillna(0, inplace=True)\n",
    "xy = df_dse_cp.plot(figsize=(20,10), kind='bar', title='Comparison of top 10 skills for \"Data Science Engineer\" across geos', grid=False, width=0.8)\n",
    "xy.set(xlabel='Skills',ylabel='Percentage of hits')\n",
    "plt.show()"
   ]
  }
 ],
 "metadata": {
  "kernelspec": {
   "display_name": "Python 3",
   "language": "python",
   "name": "python3"
  },
  "language_info": {
   "codemirror_mode": {
    "name": "ipython",
    "version": 3
   },
   "file_extension": ".py",
   "mimetype": "text/x-python",
   "name": "python",
   "nbconvert_exporter": "python",
   "pygments_lexer": "ipython3",
   "version": "3.6.8"
  }
 },
 "nbformat": 4,
 "nbformat_minor": 2
}
